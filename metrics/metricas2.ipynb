{
 "cells": [
  {
   "cell_type": "code",
   "execution_count": 1,
   "metadata": {},
   "outputs": [],
   "source": [
    "import pandas as pd\n",
    "import numpy as np\n",
    "import matplotlib.pyplot as plt\n",
    "from sklearn.metrics import classification_report\n",
    "import seaborn as sns\n",
    "import os\n",
    "import sys\n",
    "import warnings\n",
    "warnings.filterwarnings('ignore')\n",
    "import torch\n",
    "import torch.nn as nn\n",
    "import torch.nn.functional as F\n",
    "import torchmetrics\n",
    "%matplotlib inline\n",
    "# import from models folder\n",
    "sys.path.append(os.path.abspath('../models'))\n",
    "sys.path.append(os.path.abspath('../data'))\n",
    "from thmodel import *"
   ]
  },
  {
   "cell_type": "code",
   "execution_count": 2,
   "metadata": {},
   "outputs": [],
   "source": [
    "import pickle\n",
    "# we want to load dict_data_final.pkl\n",
    "with open('..\\\\data\\\\dict_data_final.pkl', 'rb') as f:\n",
    "    dict_data = pickle.load(f)"
   ]
  },
  {
   "cell_type": "code",
   "execution_count": 3,
   "metadata": {},
   "outputs": [],
   "source": [
    "P = [0.1, 0.5, 0.9]\n",
    "C, p0 = 2, 0.5\n",
    "inc = 1\n",
    "n_it = 100\n",
    "\n",
    "x, y = dict_data['Beneixama']"
   ]
  },
  {
   "cell_type": "code",
   "execution_count": 4,
   "metadata": {},
   "outputs": [],
   "source": [
    "thmodel = Grid(x=x, y=y)\n",
    "thmodel.initialize(inc=inc, part=P)\n",
    "thmodel.compute_th_param()\n",
    "thmodel.submatrix()\n",
    "thmodel.enlargement_process()\n",
    "thmodel.montecarlo(n_it=n_it)"
   ]
  },
  {
   "cell_type": "code",
   "execution_count": 5,
   "metadata": {},
   "outputs": [
    {
     "data": {
      "text/plain": [
       "<matplotlib.image.AxesImage at 0x12a39c0c910>"
      ]
     },
     "execution_count": 5,
     "metadata": {},
     "output_type": "execute_result"
    },
    {
     "data": {
      "image/png": "[encoded data removed]",
      "text/plain": [
       "<Figure size 432x288 with 1 Axes>"
      ]
     },
     "metadata": {
      "needs_background": "light"
     },
     "output_type": "display_data"
    }
   ],
   "source": [
    "X = thmodel.X.clone().detach()\n",
    "y_bin = torch.from_numpy(y).clone()\n",
    "\n",
    "X_bin = torch.where(\n",
    "    X == 0,\n",
    "    0,\n",
    "    1\n",
    ")\n",
    "\n",
    "y_bin = torch.where(\n",
    "    y_bin == 0,\n",
    "    0,\n",
    "    1\n",
    ")\n",
    "\n",
    "misclass = (y_bin[:, :, -1] - X_bin[:, :, -1]).to(torch.float32)\n",
    "plt.imshow(misclass)"
   ]
  },
  {
   "attachments": {},
   "cell_type": "markdown",
   "metadata": {},
   "source": [
    "# Train"
   ]
  },
  {
   "cell_type": "code",
   "execution_count": 13,
   "metadata": {},
   "outputs": [
    {
     "name": "stdout",
     "output_type": "stream",
     "text": [
      "Epoch:  0\n",
      "Loss:  6807.2158203125\n",
      "Alpha:  1.100000023841858 Beta:  0.8999999761581421 Gamma:  0.8999999761581421\n",
      "Epoch:  1\n",
      "Loss:  4461.16552734375\n",
      "Alpha:  1.2000000476837158 Beta:  0.7999999523162842 Gamma:  0.7999999523162842\n",
      "Epoch:  2\n"
     ]
    },
    {
     "ename": "KeyboardInterrupt",
     "evalue": "",
     "output_type": "error",
     "traceback": [
      "\u001b[1;31m---------------------------------------------------------------------------\u001b[0m",
      "\u001b[1;31mKeyboardInterrupt\u001b[0m                         Traceback (most recent call last)",
      "\u001b[1;32mc:\\Users\\joanb\\Desktop\\Model_Results\\metrics\\metricas2.ipynb Cell 7\u001b[0m in \u001b[0;36m<cell line: 1>\u001b[1;34m()\u001b[0m\n\u001b[1;32m----> <a href='vscode-notebook-cell:/c%3A/Users/joanb/Desktop/Model_Results/metrics/metricas2.ipynb#W6sZmlsZQ%3D%3D?line=0'>1</a>\u001b[0m Train(x\u001b[39m=\u001b[39;49mx, y\u001b[39m=\u001b[39;49my, alpha\u001b[39m=\u001b[39;49m\u001b[39m1.\u001b[39;49m, beta\u001b[39m=\u001b[39;49m\u001b[39m1.\u001b[39;49m, gamma\u001b[39m=\u001b[39;49m\u001b[39m1.\u001b[39;49m, epochs\u001b[39m=\u001b[39;49m\u001b[39m5\u001b[39;49m)\n",
      "File \u001b[1;32mc:\\Users\\joanb\\Desktop\\Model_Results\\models\\thmodel.py:342\u001b[0m, in \u001b[0;36mTrain\u001b[1;34m(x, y, alpha, beta, gamma, delta, a1, a2, inc, part, n_it, epochs)\u001b[0m\n\u001b[0;32m    340\u001b[0m thmodel\u001b[39m.\u001b[39msubmatrix()\n\u001b[0;32m    341\u001b[0m thmodel\u001b[39m.\u001b[39menlargement_process()\n\u001b[1;32m--> 342\u001b[0m thmodel\u001b[39m.\u001b[39;49mmontecarlo(n_it\u001b[39m=\u001b[39;49mn_it)\n\u001b[0;32m    344\u001b[0m \u001b[39m#optimizer = torch.optim.Adam([thmodel.alpha, thmodel.beta, thmodel.gamma], lr=0.15)\u001b[39;00m\n\u001b[0;32m    346\u001b[0m loss \u001b[39m=\u001b[39m \u001b[39m0\u001b[39m\n",
      "File \u001b[1;32mc:\\Users\\joanb\\Desktop\\Model_Results\\models\\thmodel.py:308\u001b[0m, in \u001b[0;36mGrid.montecarlo\u001b[1;34m(self, n_it, tau)\u001b[0m\n\u001b[0;32m    296\u001b[0m \u001b[39mself\u001b[39m\u001b[39m.\u001b[39mdf_MC \u001b[39m=\u001b[39m pd\u001b[39m.\u001b[39mDataFrame(\n\u001b[0;32m    297\u001b[0m     np\u001b[39m.\u001b[39mzeros((\u001b[39mself\u001b[39m\u001b[39m.\u001b[39mK\u001b[39m+\u001b[39m\u001b[39m1\u001b[39m, \u001b[39m3\u001b[39m), dtype\u001b[39m=\u001b[39m\u001b[39m'\u001b[39m\u001b[39mfloat64\u001b[39m\u001b[39m'\u001b[39m),\n\u001b[0;32m    298\u001b[0m     columns\u001b[39m=\u001b[39m[\u001b[39m'\u001b[39m\u001b[39mSusceptible\u001b[39m\u001b[39m'\u001b[39m, \u001b[39m'\u001b[39m\u001b[39mInfected\u001b[39m\u001b[39m'\u001b[39m, \u001b[39m'\u001b[39m\u001b[39mDead\u001b[39m\u001b[39m'\u001b[39m]\n\u001b[0;32m    299\u001b[0m )\n\u001b[0;32m    301\u001b[0m \u001b[39m#self.submatrix()\u001b[39;00m\n\u001b[0;32m    302\u001b[0m \u001b[39m#self.enlargement_process()\u001b[39;00m\n\u001b[0;32m    303\u001b[0m \n\u001b[0;32m    304\u001b[0m \u001b[39m# we have to note that self.A and self.large_matrices are already computed.\u001b[39;00m\n\u001b[0;32m    305\u001b[0m \u001b[39m# we only need to compute the neighbourhood relation and update the state\u001b[39;00m\n\u001b[0;32m    306\u001b[0m \u001b[39m# for every single random seed\u001b[39;00m\n\u001b[1;32m--> 308\u001b[0m \u001b[39mself\u001b[39;49m\u001b[39m.\u001b[39;49mtask_montecarlo(n_it\u001b[39m=\u001b[39;49mn_it, tau\u001b[39m=\u001b[39;49mtau)\n\u001b[0;32m    310\u001b[0m _, \u001b[39mself\u001b[39m\u001b[39m.\u001b[39mX \u001b[39m=\u001b[39m torch\u001b[39m.\u001b[39mmax(\n\u001b[0;32m    311\u001b[0m     torch\u001b[39m.\u001b[39mstack((\u001b[39mself\u001b[39m\u001b[39m.\u001b[39mX0, \u001b[39mself\u001b[39m\u001b[39m.\u001b[39mX1, \u001b[39mself\u001b[39m\u001b[39m.\u001b[39mX2), dim\u001b[39m=\u001b[39m\u001b[39m-\u001b[39m\u001b[39m1\u001b[39m),\n\u001b[0;32m    312\u001b[0m     dim\u001b[39m=\u001b[39m\u001b[39m-\u001b[39m\u001b[39m1\u001b[39m\n\u001b[0;32m    313\u001b[0m )\n",
      "File \u001b[1;32mc:\\Users\\joanb\\Desktop\\Model_Results\\models\\thmodel.py:259\u001b[0m, in \u001b[0;36mGrid.task_montecarlo\u001b[1;34m(self, n_it, tau)\u001b[0m\n\u001b[0;32m    256\u001b[0m np\u001b[39m.\u001b[39mrandom\u001b[39m.\u001b[39mseed(s)\n\u001b[0;32m    258\u001b[0m \u001b[39mself\u001b[39m\u001b[39m.\u001b[39mrefresh()\n\u001b[1;32m--> 259\u001b[0m \u001b[39mself\u001b[39;49m\u001b[39m.\u001b[39;49mspread(seed\u001b[39m=\u001b[39;49ms, tau\u001b[39m=\u001b[39;49mtau)\n\u001b[0;32m    261\u001b[0m \u001b[39mself\u001b[39m\u001b[39m.\u001b[39mX0 \u001b[39m+\u001b[39m\u001b[39m=\u001b[39m torch\u001b[39m.\u001b[39mwhere(\n\u001b[0;32m    262\u001b[0m     \u001b[39mself\u001b[39m\u001b[39m.\u001b[39mS\u001b[39m==\u001b[39m\u001b[39m0\u001b[39m,\n\u001b[0;32m    263\u001b[0m     \u001b[39mself\u001b[39m\u001b[39m.\u001b[39mS \u001b[39m+\u001b[39m \u001b[39m1\u001b[39m,\n\u001b[0;32m    264\u001b[0m     \u001b[39m0\u001b[39m\n\u001b[0;32m    265\u001b[0m )\u001b[39m.\u001b[39mclone()\u001b[39m.\u001b[39mto(torch\u001b[39m.\u001b[39mfloat)\n\u001b[0;32m    267\u001b[0m \u001b[39mself\u001b[39m\u001b[39m.\u001b[39mX1 \u001b[39m+\u001b[39m\u001b[39m=\u001b[39m torch\u001b[39m.\u001b[39mwhere(\n\u001b[0;32m    268\u001b[0m     \u001b[39mself\u001b[39m\u001b[39m.\u001b[39mS\u001b[39m==\u001b[39m\u001b[39m1\u001b[39m,\n\u001b[0;32m    269\u001b[0m     \u001b[39mself\u001b[39m\u001b[39m.\u001b[39mS,\n\u001b[0;32m    270\u001b[0m     \u001b[39m0\u001b[39m\n\u001b[0;32m    271\u001b[0m )\u001b[39m.\u001b[39mclone()\u001b[39m.\u001b[39mto(torch\u001b[39m.\u001b[39mfloat)\n",
      "File \u001b[1;32mc:\\Users\\joanb\\Desktop\\Model_Results\\models\\thmodel.py:227\u001b[0m, in \u001b[0;36mGrid.spread\u001b[1;34m(self, seed, tau)\u001b[0m\n\u001b[0;32m    225\u001b[0m \u001b[39mself\u001b[39m\u001b[39m.\u001b[39mP[:, :, L] \u001b[39m=\u001b[39m \u001b[39mself\u001b[39m\u001b[39m.\u001b[39mneigh_prob\u001b[39m.\u001b[39mclone()\n\u001b[0;32m    226\u001b[0m \u001b[39mself\u001b[39m\u001b[39m.\u001b[39mupdate(tau\u001b[39m=\u001b[39mtau)\n\u001b[1;32m--> 227\u001b[0m \u001b[39mself\u001b[39m\u001b[39m.\u001b[39mS[:, :, L\u001b[39m+\u001b[39m\u001b[39m1\u001b[39m] \u001b[39m=\u001b[39m \u001b[39mself\u001b[39;49m\u001b[39m.\u001b[39;49mstate\u001b[39m.\u001b[39;49mclone()\n\u001b[0;32m    228\u001b[0m \u001b[39mself\u001b[39m\u001b[39m.\u001b[39mdf_spread\u001b[39m.\u001b[39miloc[L\u001b[39m+\u001b[39m\u001b[39m1\u001b[39m] \u001b[39m=\u001b[39m [\u001b[39mself\u001b[39m\u001b[39m.\u001b[39msusceptible, \u001b[39mself\u001b[39m\u001b[39m.\u001b[39minfected, \u001b[39mself\u001b[39m\u001b[39m.\u001b[39mdead]\n",
      "\u001b[1;31mKeyboardInterrupt\u001b[0m: "
     ]
    }
   ],
   "source": [
    "Train(x=x, y=y, alpha=1., beta=1., gamma=1., epochs=5)"
   ]
  },
  {
   "cell_type": "code",
   "execution_count": 18,
   "metadata": {},
   "outputs": [],
   "source": [
    "thmodel = Grid(x=x, y=y)\n",
    "thmodel.initialize(inc=inc, part=P)\n",
    "thmodel.compute_th_param(alpha=2, beta=0.1, gamma=0.1)\n",
    "thmodel.submatrix()\n",
    "thmodel.enlargement_process()\n",
    "thmodel.montecarlo(n_it=n_it)"
   ]
  },
  {
   "cell_type": "code",
   "execution_count": 17,
   "metadata": {},
   "outputs": [
    {
     "data": {
      "text/plain": [
       "(tensor([1.0006, 1.0006, 1.0006, 1.0006, 1.0005, 1.0005, 1.0005, 1.0005, 1.0005,\n",
       "         1.0006, 1.0007, 1.0007, 1.0008, 1.0008, 1.0009, 1.0010, 1.0012]),\n",
       " tensor([0.9994, 0.9994, 0.9994, 0.9994, 0.9995, 0.9995, 0.9995, 0.9995, 0.9995,\n",
       "         0.9994, 0.9993, 0.9993, 0.9992, 0.9992, 0.9991, 0.9990, 0.9988]))"
      ]
     },
     "execution_count": 17,
     "metadata": {},
     "output_type": "execute_result"
    }
   ],
   "source": [
    "thmodel.div, thmodel.p0"
   ]
  },
  {
   "cell_type": "code",
   "execution_count": 19,
   "metadata": {},
   "outputs": [
    {
     "data": {
      "text/plain": [
       "<matplotlib.image.AxesImage at 0x12a02219540>"
      ]
     },
     "execution_count": 19,
     "metadata": {},
     "output_type": "execute_result"
    },
    {
     "data": {
      "image/png": "[encoded data removed]",
      "text/plain": [
       "<Figure size 432x288 with 1 Axes>"
      ]
     },
     "metadata": {
      "needs_background": "light"
     },
     "output_type": "display_data"
    }
   ],
   "source": [
    "X = thmodel.X.clone().detach()\n",
    "y_bin = torch.from_numpy(y).clone()\n",
    "\n",
    "X_bin = torch.where(\n",
    "    X == 0,\n",
    "    0,\n",
    "    1\n",
    ")\n",
    "\n",
    "y_bin = torch.where(\n",
    "    y_bin == 0,\n",
    "    0,\n",
    "    1\n",
    ")\n",
    "\n",
    "misclass = (y_bin[:, :, -1] - X_bin[:, :, -1]).to(torch.float32)\n",
    "plt.imshow(misclass)"
   ]
  }
 ],
 "metadata": {
  "kernelspec": {
   "display_name": "Python 3",
   "language": "python",
   "name": "python3"
  },
  "language_info": {
   "codemirror_mode": {
    "name": "ipython",
    "version": 3
   },
   "file_extension": ".py",
   "mimetype": "text/x-python",
   "name": "python",
   "nbconvert_exporter": "python",
   "pygments_lexer": "ipython3",
   "version": "3.10.4"
  },
  "orig_nbformat": 4
 },
 "nbformat": 4,
 "nbformat_minor": 2
}
