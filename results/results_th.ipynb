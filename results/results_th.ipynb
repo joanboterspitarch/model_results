{
 "cells": [
  {
   "cell_type": "code",
   "execution_count": 1,
   "metadata": {},
   "outputs": [],
   "source": [
    "from thmodel import *\n",
    "import pickle\n",
    "with open('dict_data_final.pkl', 'rb') as f:\n",
    "    dict_data_final = pickle.load(f)"
   ]
  },
  {
   "attachments": {},
   "cell_type": "markdown",
   "metadata": {},
   "source": [
    "# Ejemplo"
   ]
  },
  {
   "cell_type": "code",
   "execution_count": 2,
   "metadata": {},
   "outputs": [],
   "source": [
    "x, y = dict_data_final['Beneixama']"
   ]
  },
  {
   "cell_type": "code",
   "execution_count": 4,
   "metadata": {},
   "outputs": [],
   "source": [
    "grid = Grid(x=x, y=y)\n",
    "grid.initialize(part=[0, 0.1, 0.3, 0.5, 0.7, 0.9, 1.01])\n",
    "grid.compute_th_param()\n",
    "grid.submatrix()\n",
    "grid.enlargement_process()\n",
    "grid.montecarlo(n_it=10)"
   ]
  },
  {
   "cell_type": "code",
   "execution_count": 5,
   "metadata": {},
   "outputs": [
    {
     "data": {
      "text/plain": [
       "<matplotlib.image.AxesImage at 0x1cdecbd9bd0>"
      ]
     },
     "execution_count": 5,
     "metadata": {},
     "output_type": "execute_result"
    },
    {
     "data": {
      "image/png": "[encoded data removed]",
      "text/plain": [
       "<Figure size 432x288 with 1 Axes>"
      ]
     },
     "metadata": {
      "needs_background": "light"
     },
     "output_type": "display_data"
    }
   ],
   "source": [
    "plt.imshow(grid.X0[:, :, -1].numpy())"
   ]
  },
  {
   "attachments": {},
   "cell_type": "markdown",
   "metadata": {},
   "source": [
    "# Resultados"
   ]
  },
  {
   "cell_type": "code",
   "execution_count": 6,
   "metadata": {},
   "outputs": [],
   "source": [
    "## Parámetros ## \n",
    "P = [\n",
    "    [0, 0.1, 0.5, 0.9, 1.01],\n",
    "    [0, 0.1, 0.3, 0.5, 0.7, 0.9, 1.01],\n",
    "    [0, 0.1, 0.2, 0.3, 0.4, 0.5, 0.6, 0.7, 0.8, 0.9, 1.01]\n",
    "]\n",
    "lista = list(dict_data_final.keys())\n",
    "lista.append('Total')"
   ]
  },
  {
   "cell_type": "code",
   "execution_count": 7,
   "metadata": {},
   "outputs": [],
   "source": [
    "from torchmetrics import Accuracy \n",
    "accuracy = Accuracy(task=\"multiclass\", num_classes=3)\n",
    "cross_entropy = torch.nn.CrossEntropyLoss()"
   ]
  },
  {
   "cell_type": "code",
   "execution_count": 8,
   "metadata": {},
   "outputs": [
    {
     "name": "stdout",
     "output_type": "stream",
     "text": [
      "P0_a1b1\n",
      "Name:     Artana   Metrica:    [0.9480991363525391, 0.6120128035545349, 2465, 1363, 1814.2799072265625]\n",
      "Name:     Beneixama   Metrica:    [0.9847385883331299, 0.5698277950286865, 1476, 1046, 1092.4600830078125]\n",
      "Name:     Beniarda   Metrica:    [0.5251706838607788, 1.0176622867584229, 31388, 615, 698.9099731445312]\n",
      "Name:     Bolulla   Metrica:    [0.84210205078125, 0.7095428705215454, 10400, 53, 53.26000213623047]\n",
      "Name:     Carcaixent   Metrica:    [0.96372389793396, 0.5912727117538452, 1032, 1370, 1369.550048828125]\n",
      "Name:     Chella   Metrica:    [0.9151085019111633, 0.6563969254493713, 315, 5360, 5346.3701171875]\n",
      "Name:     Gatova   Metrica:    [0.9340186715126038, 0.6275495290756226, 1447, 2915, 2978.080078125]\n",
      "Name:     Llutxent   Metrica:    [0.9530197381973267, 0.6017954349517822, 2290, 1130, 1342.2900390625]\n",
      "Name:     Montan   Metrica:    [0.9052672982215881, 0.6597656011581421, 5225, 1530, 2225.130126953125]\n",
      "Name:     ValldEbo   Metrica:    [0.7912912964820862, 0.7573423385620117, 13026, 1370, 1400.9600830078125]\n",
      "Name:     VallGallinera   Metrica:    [0.9817408323287964, 0.5713479518890381, 1176, 537, 659.0999755859375]\n",
      "P0_a1b2\n",
      "Name:     Artana   Metrica:    [0.9635422229766846, 0.5881786346435547, 2465, 83, 83.50999450683594]\n",
      "Name:     Beneixama   Metrica:    [0.9796817302703857, 0.5720734000205994, 1476, 134, 149.45999145507812]\n",
      "Name:     Beniarda   Metrica:    [0.5251706838607788, 1.0260261297225952, 31388, 58, 58.429996490478516]\n",
      "Name:     Bolulla   Metrica:    [0.84210205078125, 0.7095641493797302, 10400, 53, 54.93000030517578]\n",
      "Name:     Carcaixent   Metrica:    [0.9840118885040283, 0.5675405263900757, 1032, 30, 30.860002517700195]\n",
      "Name:     Chella   Metrica:    [0.9720358848571777, 0.5831438899040222, 315, 1552, 1502.739990234375]\n",
      "Name:     Gatova   Metrica:    [0.977274477481842, 0.5744742751121521, 1447, 58, 65.84000396728516]\n",
      "Name:     Llutxent   Metrica:    [0.9651167988777161, 0.5860598087310791, 2290, 101, 100.0]\n",
      "Name:     Montan   Metrica:    [0.9212554097175598, 0.6302365064620972, 5225, 24, 26.17999839782715]\n",
      "Name:     ValldEbo   Metrica:    [0.7968175411224365, 0.7534821629524231, 13026, 678, 709.9599609375]\n",
      "Name:     VallGallinera   Metrica:    [0.9819376468658447, 0.5694360733032227, 1176, 34, 43.34000015258789]\n",
      "P0_a2b1\n",
      "Name:     Artana   Metrica:    [0.9068570137023926, 0.6467598080635071, 2465, 4375, 3873.97998046875]\n",
      "Name:     Beneixama   Metrica:    [0.9827249646186829, 0.5728744268417358, 1476, 1308, 1424.6099853515625]\n",
      "Name:     Beniarda   Metrica:    [0.5249738693237305, 1.003973364830017, 31388, 2061, 2062.610107421875]\n",
      "Name:     Bolulla   Metrica:    [0.84210205078125, 0.709602415561676, 10400, 53, 57.8699951171875]\n",
      "Name:     Carcaixent   Metrica:    [0.9335342049598694, 0.6312827467918396, 1032, 3364, 3366.05029296875]\n",
      "Name:     Chella   Metrica:    [0.8986055850982666, 0.6821892261505127, 315, 6533, 6684.7900390625]\n",
      "Name:     Gatova   Metrica:    [0.9229814410209656, 0.6418724060058594, 1447, 3644, 3714.2001953125]\n",
      "Name:     Llutxent   Metrica:    [0.9346091747283936, 0.619812548160553, 2290, 2368, 2333.10009765625]\n",
      "Name:     Montan   Metrica:    [0.753349781036377, 0.8447588682174683, 5225, 11932, 11863.3798828125]\n",
      "Name:     ValldEbo   Metrica:    [0.7899589538574219, 0.759063184261322, 13026, 1497, 1560.929931640625]\n",
      "Name:     VallGallinera   Metrica:    [0.9781222939491272, 0.5778695344924927, 1176, 821, 1143.7900390625]\n",
      "P0_a2b2\n",
      "Name:     Artana   Metrica:    [0.964026689529419, 0.5927909016609192, 2465, 181, 554.489990234375]\n",
      "Name:     Beneixama   Metrica:    [0.9845114946365356, 0.5705040097236633, 1476, 982, 1017.1600341796875]\n",
      "Name:     Beniarda   Metrica:    [0.5251706838607788, 1.0251526832580566, 31388, 70, 115.73999786376953]\n",
      "Name:     Bolulla   Metrica:    [0.84210205078125, 0.7095423340797424, 10400, 53, 53.220001220703125]\n",
      "Name:     Carcaixent   Metrica:    [0.9833759665489197, 0.568450391292572, 1032, 72, 81.30000305175781]\n",
      "Name:     Chella   Metrica:    [0.9270087480545044, 0.6412556767463684, 315, 4582, 4565.43994140625]\n",
      "Name:     Gatova   Metrica:    [0.942179262638092, 0.6162739396095276, 1447, 2376, 2414.8701171875]\n",
      "Name:     Llutxent   Metrica:    [0.9627094864845276, 0.5949229598045349, 2290, 486, 936.4700317382812]\n",
      "Name:     Montan   Metrica:    [0.9212856888771057, 0.6299590468406677, 5225, 26, 43.209999084472656]\n",
      "Name:     ValldEbo   Metrica:    [0.790458619594574, 0.7580704689025879, 13026, 1453, 1480.800048828125]\n",
      "Name:     VallGallinera   Metrica:    [0.981044352054596, 0.570799708366394, 1176, 296, 389.260009765625]\n",
      "P1_a1b1\n",
      "Name:     Artana   Metrica:    [0.8765159249305725, 0.6784528493881226, 2465, 6554, 5966.3095703125]\n",
      "Name:     Beneixama   Metrica:    [0.9718844890594482, 0.5887237787246704, 1476, 2633, 2728.0400390625]\n",
      "Name:     Beniarda   Metrica:    [0.5251706838607788, 1.0137406587600708, 31388, 984, 1042.8800048828125]\n",
      "Name:     Bolulla   Metrica:    [0.84210205078125, 0.7103505730628967, 10400, 53, 121.21997833251953]\n",
      "Name:     Carcaixent   Metrica:    [0.932217001914978, 0.6297293901443481, 1032, 3451, 3367.52978515625]\n",
      "Name:     Chella   Metrica:    [0.8365001678466797, 0.7612901329994202, 315, 10651, 10776.8896484375]\n",
      "Name:     Gatova   Metrica:    [0.828460693359375, 0.758720338344574, 1447, 9887, 9984.58984375]\n",
      "Name:     Llutxent   Metrica:    [0.8787567019462585, 0.6987378597259521, 2290, 6079, 6660.4296875]\n",
      "Name:     Montan   Metrica:    [0.884903609752655, 0.6923219561576843, 5225, 2901, 4107.10009765625]\n",
      "Name:     ValldEbo   Metrica:    [0.7402080297470093, 0.8206360936164856, 13026, 5557, 5725.4404296875]\n",
      "Name:     VallGallinera   Metrica:    [0.9343668818473816, 0.6466730833053589, 1176, 5064, 6301.08984375]\n",
      "P1_a1b2\n",
      "Name:     Artana   Metrica:    [0.9635270833969116, 0.5881878137588501, 2465, 82, 82.78999328613281]\n",
      "Name:     Beneixama   Metrica:    [0.9798179864883423, 0.5720749497413635, 1476, 143, 149.8699951171875]\n",
      "Name:     Beniarda   Metrica:    [0.5251706838607788, 1.026017189025879, 31388, 60, 58.959999084472656]\n",
      "Name:     Bolulla   Metrica:    [0.84210205078125, 0.7095580101013184, 10400, 53, 54.37999725341797]\n",
      "Name:     Carcaixent   Metrica:    [0.9839967489242554, 0.5675737857818604, 1032, 31, 32.659996032714844]\n",
      "Name:     Chella   Metrica:    [0.9711729288101196, 0.5842294096946716, 315, 1607, 1557.2099609375]\n",
      "Name:     Gatova   Metrica:    [0.977274477481842, 0.574489176273346, 1447, 58, 66.97000122070312]\n",
      "Name:     Llutxent   Metrica:    [0.9651016592979431, 0.5860286355018616, 2290, 97, 101.11000061035156]\n",
      "Name:     Montan   Metrica:    [0.9212554097175598, 0.6302365064620972, 5225, 24, 26.17999839782715]\n",
      "Name:     ValldEbo   Metrica:    [0.7927447557449341, 0.7560371160507202, 13026, 1267, 1320.070068359375]\n",
      "Name:     VallGallinera   Metrica:    [0.9819527864456177, 0.5694634914398193, 1176, 37, 48.249996185302734]\n",
      "P1_a2b1\n",
      "Name:     Artana   Metrica:    [0.7934715151786804, 0.7928590178489685, 2465, 13236, 13354.3505859375]\n",
      "Name:     Beneixama   Metrica:    [0.9486895799636841, 0.616815447807312, 1476, 4079, 4411.830078125]\n",
      "Name:     Beniarda   Metrica:    [0.5167678594589233, 0.9998652935028076, 31388, 3950, 3971.54052734375]\n",
      "Name:     Bolulla   Metrica:    [0.8420717716217041, 0.7109116315841675, 10400, 55, 165.0099639892578]\n",
      "Name:     Carcaixent   Metrica:    [0.8632379174232483, 0.7225595116615295, 1032, 8007, 8006.2099609375]\n",
      "Name:     Chella   Metrica:    [0.8057048320770264, 0.8026723861694336, 315, 12937, 12956.69140625]\n",
      "Name:     Gatova   Metrica:    [0.8081878423690796, 0.7882381081581116, 1447, 11244, 11499.759765625]\n",
      "Name:     Llutxent   Metrica:    [0.8522763252258301, 0.7272366881370544, 2290, 7933, 8193.9501953125]\n",
      "Name:     Montan   Metrica:    [0.740601658821106, 0.8655617833137512, 5225, 12780, 12770.150390625]\n",
      "Name:     ValldEbo   Metrica:    [0.7289133667945862, 0.8291276693344116, 13026, 6423, 6240.7294921875]\n",
      "Name:     VallGallinera   Metrica:    [0.810897946357727, 0.7832782864570618, 1176, 13219, 13887.388671875]\n",
      "P1_a2b2\n",
      "Name:     Artana   Metrica:    [0.9646928906440735, 0.5998564958572388, 2465, 278, 1173.39990234375]\n",
      "Name:     Beneixama   Metrica:    [0.9714757204055786, 0.5898140072822571, 1476, 2547, 2600.760009765625]\n",
      "Name:     Beniarda   Metrica:    [0.5251706838607788, 1.0250197649002075, 31388, 73, 125.02999877929688]\n",
      "Name:     Bolulla   Metrica:    [0.84210205078125, 0.7107738852500916, 10400, 53, 155.96998596191406]\n",
      "Name:     Carcaixent   Metrica:    [0.9821798801422119, 0.5704478025436401, 1032, 151, 198.92996215820312]\n",
      "Name:     Chella   Metrica:    [0.8496419191360474, 0.7437476515769958, 315, 9768, 9869.91015625]\n",
      "Name:     Gatova   Metrica:    [0.8619207143783569, 0.7151364684104919, 1447, 7677, 7694.0390625]\n",
      "Name:     Llutxent   Metrica:    [0.9117170572280884, 0.6469317674636841, 2290, 3862, 3909.98974609375]\n",
      "Name:     Montan   Metrica:    [0.9212856888771057, 0.6301180720329285, 5225, 26, 56.24998092651367]\n",
      "Name:     ValldEbo   Metrica:    [0.7385123372077942, 0.8212376236915588, 13026, 5765, 5807.5400390625]\n",
      "Name:     VallGallinera   Metrica:    [0.9728989005088806, 0.5954360365867615, 1176, 2010, 2878.97998046875]\n",
      "P2_a1b1\n",
      "Name:     Artana   Metrica:    [0.7892322540283203, 0.8008377552032471, 2465, 13065, 13135.9794921875]\n",
      "Name:     Beneixama   Metrica:    [0.9258126616477966, 0.649027407169342, 1476, 5851, 6095.52001953125]\n",
      "Name:     Beniarda   Metrica:    [0.5215824842453003, 1.00570547580719, 31388, 2419, 2415.509765625]\n",
      "Name:     Bolulla   Metrica:    [0.8410271406173706, 0.7310643196105957, 10400, 128, 1633.2698974609375]\n",
      "Name:     Carcaixent   Metrica:    [0.8656452298164368, 0.7120901346206665, 1032, 7848, 7663.56982421875]\n",
      "Name:     Chella   Metrica:    [0.8035398125648499, 0.8062537312507629, 315, 12909, 13210.4296875]\n",
      "Name:     Gatova   Metrica:    [0.6966948509216309, 0.9237701892852783, 1447, 18593, 18383.19921875]\n",
      "Name:     Llutxent   Metrica:    [0.7593453526496887, 0.8287034630775452, 2290, 13996, 13515.669921875]\n",
      "Name:     Montan   Metrica:    [0.842616856098175, 0.7419661283493042, 5225, 5909, 6846.1298828125]\n",
      "Name:     ValldEbo   Metrica:    [0.6726521253585815, 0.9006408452987671, 13026, 10981, 10960.109375]\n",
      "Name:     VallGallinera   Metrica:    [0.5575405955314636, 1.0648114681243896, 1176, 29953, 29136.05078125]\n",
      "P2_a1b2\n",
      "Name:     Artana   Metrica:    [0.9636027812957764, 0.5881451964378357, 2465, 79, 83.25999450683594]\n",
      "Name:     Beneixama   Metrica:    [0.9796817302703857, 0.5720701217651367, 1476, 134, 149.1999969482422]\n",
      "Name:     Beniarda   Metrica:    [0.5251706838607788, 1.0260140895843506, 31388, 59, 59.13999938964844]\n",
      "Name:     Bolulla   Metrica:    [0.8418900966644287, 0.7098937630653381, 10400, 67, 74.06999969482422]\n",
      "Name:     Carcaixent   Metrica:    [0.9839967489242554, 0.567606508731842, 1032, 31, 34.369998931884766]\n",
      "Name:     Chella   Metrica:    [0.9706278443336487, 0.5848961472511292, 315, 1643, 1595.800048828125]\n",
      "Name:     Gatova   Metrica:    [0.9771987199783325, 0.5746626257896423, 1447, 63, 79.44998931884766]\n",
      "Name:     Llutxent   Metrica:    [0.965147078037262, 0.5860763788223267, 2290, 99, 105.52000427246094]\n",
      "Name:     Montan   Metrica:    [0.9212705492973328, 0.6302164793014526, 5225, 25, 27.84000015258789]\n",
      "Name:     ValldEbo   Metrica:    [0.7891565561294556, 0.7599461078643799, 13026, 1613, 1686.68994140625]\n",
      "Name:     VallGallinera   Metrica:    [0.9819679260253906, 0.5694310665130615, 1176, 31, 46.029998779296875]\n",
      "P2_a2b1\n",
      "Name:     Artana   Metrica:    [0.31338855624198914, 1.397868037223816, 2465, 47598, 45660.87109375]\n",
      "Name:     Beneixama   Metrica:    [0.7786189317703247, 0.8196149468421936, 1476, 15627, 16074.9306640625]\n",
      "Name:     Beniarda   Metrica:    [0.44155097007751465, 1.058866262435913, 31388, 12532, 12792.0703125]\n",
      "Name:     Bolulla   Metrica:    [0.8406031727790833, 0.7345128059387207, 10400, 160, 1816.2099609375]\n",
      "Name:     Carcaixent   Metrica:    [0.7906251549720764, 0.8192886710166931, 1032, 12803, 12809.87890625]\n",
      "Name:     Chella   Metrica:    [0.758739709854126, 0.8660981059074402, 315, 16081, 16226.0400390625]\n",
      "Name:     Gatova   Metrica:    [0.7251737117767334, 0.8941051363945007, 1447, 16824, 16755.689453125]\n",
      "Name:     Llutxent   Metrica:    [0.6898666024208069, 0.9633015990257263, 2290, 18598, 21042.529296875]\n",
      "Name:     Montan   Metrica:    [0.7312752604484558, 0.8810231685638428, 5225, 13656, 13645.8212890625]\n",
      "Name:     ValldEbo   Metrica:    [0.6663386225700378, 0.9112403392791748, 13026, 11391, 11322.349609375]\n",
      "Name:     VallGallinera   Metrica:    [0.49737316370010376, 1.1363433599472046, 1176, 33927, 32098.41015625]\n",
      "P2_a2b2\n",
      "Name:     Artana   Metrica:    [0.9647534489631653, 0.6123669743537903, 2465, 352, 2073.8798828125]\n",
      "Name:     Beneixama   Metrica:    [0.9149571061134338, 0.6634007096290588, 1476, 6448, 6608.6201171875]\n",
      "Name:     Beniarda   Metrica:    [0.5251706838607788, 1.0238585472106934, 31388, 87, 204.79000854492188]\n",
      "Name:     Bolulla   Metrica:    [0.8408908247947693, 0.7277076244354248, 10400, 137, 1384.550048828125]\n",
      "Name:     Carcaixent   Metrica:    [0.9805901646614075, 0.5725627541542053, 1032, 256, 315.76995849609375]\n",
      "Name:     Chella   Metrica:    [0.8131084442138672, 0.790448784828186, 315, 12261, 12374.3896484375]\n",
      "Name:     Gatova   Metrica:    [0.7040530443191528, 0.91457599401474, 1447, 18106, 17867.1484375]\n",
      "Name:     Llutxent   Metrica:    [0.8172720074653625, 0.7692070603370667, 2290, 10119, 10167.8291015625]\n",
      "Name:     Montan   Metrica:    [0.9213916659355164, 0.6295867562294006, 5225, 33, 75.489990234375]\n",
      "Name:     ValldEbo   Metrica:    [0.6664597392082214, 0.91036057472229, 13026, 11268, 11237.259765625]\n",
      "Name:     VallGallinera   Metrica:    [0.8572574853897095, 0.7492344975471497, 1176, 10108, 12070.0107421875]\n"
     ]
    }
   ],
   "source": [
    "i = -1\n",
    "for part in P:\n",
    "    i += 1\n",
    "    for alpha in [1, 2]:\n",
    "        for beta in [1, 2]:        \n",
    "            #### dataframe ####\n",
    "            df = pd.DataFrame(\n",
    "                np.zeros((12, 5)),\n",
    "                index = lista,\n",
    "                columns=['Accuracy', 'CrossEntropy', 'Fired', 'ModelFired', 'ExpectedFired'],\n",
    "                dtype=float\n",
    "            )\n",
    "            ####################\n",
    "            print(f'P{i}_a{alpha}b{beta}')\n",
    "\n",
    "            for key in dict_data_final.keys():\n",
    "                \n",
    "                x, y = dict_data_final[key]\n",
    "\n",
    "                grid = Grid(x=x, y=y)\n",
    "                grid.initialize(part=part)\n",
    "                grid.compute_th_param(alpha=float(alpha), beta=float(beta))\n",
    "                grid.submatrix()\n",
    "                grid.enlargement_process()\n",
    "                grid.montecarlo(n_it=100)\n",
    "\n",
    "                ###### values ######\n",
    "                y_torch_ce = torch.from_numpy(y[:, :, -1].flatten()).long()\n",
    "                y_torch_acc = torch.from_numpy(y[:, :, -1])\n",
    "                model_probs = torch.stack(\n",
    "                [grid.X0[:, :, -1].flatten(), grid.X2[:, :, -1].flatten(), grid.X2[:, :, -1].flatten()], \n",
    "                dim=-1\n",
    "                ).float()\n",
    "                model_class = grid.X[:, :, -1]\n",
    "\n",
    "                ###### metrics ######\n",
    "                acc = accuracy(model_class, y_torch_acc).item()\n",
    "                ce = cross_entropy(model_probs, y_torch_ce).item()\n",
    "                fired = (y[:, :, -1] != 0).sum()\n",
    "                model_fired = (grid.X[:, :, -1] != 0).sum().item()\n",
    "                expected_fired = (1 - grid.X0[:, :, -1]).sum().item()\n",
    "\n",
    "                metrics = [acc, ce, fired, model_fired, expected_fired]\n",
    "                print('Name:    ', key, '  Metrica:   ', metrics)\n",
    "                ######################\n",
    "\n",
    "                df.loc[key] = metrics\n",
    "            \n",
    "            df.loc['Total'] = [\n",
    "                df.Accuracy[:-1].mean(),\n",
    "                df.CrossEntropy[:-1].mean(),\n",
    "                df.Fired[:-1].mean(),\n",
    "                df.ModelFired[:-1].mean(),\n",
    "                df.ExpectedFired[:-1].mean()\n",
    "            ]\n",
    "            df.to_csv(f'data_th_P{i}_a{alpha}b{beta}.csv')"
   ]
  }
 ],
 "metadata": {
  "kernelspec": {
   "display_name": "Python 3",
   "language": "python",
   "name": "python3"
  },
  "language_info": {
   "codemirror_mode": {
    "name": "ipython",
    "version": 3
   },
   "file_extension": ".py",
   "mimetype": "text/x-python",
   "name": "python",
   "nbconvert_exporter": "python",
   "pygments_lexer": "ipython3",
   "version": "3.10.4"
  },
  "orig_nbformat": 4
 },
 "nbformat": 4,
 "nbformat_minor": 2
}
